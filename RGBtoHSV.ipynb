{
 "cells": [
  {
   "cell_type": "markdown",
   "id": "a9ffcac9-7df7-437a-936a-967aceb21c92",
   "metadata": {},
   "source": [
    "# INSTALL DEPENDENCIES"
   ]
  },
  {
   "cell_type": "code",
   "execution_count": 19,
   "id": "903abbbe-33b7-4e4c-8652-11dd1704ca4f",
   "metadata": {},
   "outputs": [],
   "source": [
    "import cv2"
   ]
  },
  {
   "cell_type": "markdown",
   "id": "3bc0b47e-821b-40b8-a8ac-02dec48ca45e",
   "metadata": {},
   "source": [
    "# FUNCTION FOR CONVERTING"
   ]
  },
  {
   "cell_type": "code",
   "execution_count": 13,
   "id": "a40b68b3-1308-4d19-b93f-cc1db3795629",
   "metadata": {},
   "outputs": [],
   "source": [
    "def f_rgb_to_hsv(r, g, b, scaleFactor):\n",
    "    r, g, b = r/255.0, g/255.0, b/255.0\n",
    "    cmax = max (r, g, b)\n",
    "    cmin = min (r, g, b)\n",
    "    diff = cmax - cmin\n",
    "    if cmax == cmin:\n",
    "        h = 0\n",
    "    elif cmax == r:\n",
    "        h = (60 * ((g - b)/ diff) + 0) % 360\n",
    "    elif cmax == g:\n",
    "        h = (60 * ((b - r)/ diff) + 120) % 360\n",
    "    elif cmax == b:\n",
    "        h = (60 * ((r - g)/ diff) + 240) % 360\n",
    "    if h < 0:\n",
    "        h += 360\n",
    "    if cmax == 0:\n",
    "        s = 0\n",
    "    else:\n",
    "        s = (diff/cmax) * scaleFactor\n",
    "    v = cmax * scaleFactor\n",
    "    return h, s, v"
   ]
  },
  {
   "cell_type": "code",
   "execution_count": 18,
   "id": "88a715e2-c2da-402a-8315-a1c0c9a09efa",
   "metadata": {},
   "outputs": [
    {
     "name": "stdout",
     "output_type": "stream",
     "text": [
      "(100.0, 75.0, 78.43137254901961)\n"
     ]
    }
   ],
   "source": [
    "print(f_rgb_to_hsv(100,200,50,100))"
   ]
  },
  {
   "cell_type": "markdown",
   "id": "3cee70dc-4d4c-4601-86b9-4a3782964e8b",
   "metadata": {},
   "source": [
    "# EXAMPLE"
   ]
  },
  {
   "cell_type": "code",
   "execution_count": 20,
   "id": "a5295018-f011-450e-9e24-a52465560302",
   "metadata": {},
   "outputs": [],
   "source": [
    "im = cv2.imread(r'../../Downloads/download.png')\n",
    "hsvIm = cv2.cvtColor(im, cv2.COLOR_BGR2HSV)"
   ]
  },
  {
   "cell_type": "code",
   "execution_count": 21,
   "id": "f47d243e-1857-492c-9d22-c20f828ae8da",
   "metadata": {},
   "outputs": [
    {
     "data": {
      "text/plain": [
       "(200, 500, 3)"
      ]
     },
     "execution_count": 21,
     "metadata": {},
     "output_type": "execute_result"
    }
   ],
   "source": [
    "hsvIm.shape"
   ]
  },
  {
   "cell_type": "code",
   "execution_count": 22,
   "id": "948c2914-874d-4f41-916d-f58306f4d7f1",
   "metadata": {},
   "outputs": [
    {
     "data": {
      "text/plain": [
       "numpy.ndarray"
      ]
     },
     "execution_count": 22,
     "metadata": {},
     "output_type": "execute_result"
    }
   ],
   "source": [
    "type(hsvIm)"
   ]
  },
  {
   "cell_type": "code",
   "execution_count": 24,
   "id": "cf3738a2-9bdc-4fc8-a14e-ff3d131fa2fd",
   "metadata": {},
   "outputs": [
    {
     "data": {
      "text/plain": [
       "dtype('uint8')"
      ]
     },
     "execution_count": 24,
     "metadata": {},
     "output_type": "execute_result"
    }
   ],
   "source": [
    "hsvIm.dtype"
   ]
  },
  {
   "cell_type": "code",
   "execution_count": null,
   "id": "576494a2-8fdc-47f9-884c-a224b42ab44b",
   "metadata": {},
   "outputs": [],
   "source": []
  }
 ],
 "metadata": {
  "kernelspec": {
   "display_name": "Python 3 (ipykernel)",
   "language": "python",
   "name": "python3"
  },
  "language_info": {
   "codemirror_mode": {
    "name": "ipython",
    "version": 3
   },
   "file_extension": ".py",
   "mimetype": "text/x-python",
   "name": "python",
   "nbconvert_exporter": "python",
   "pygments_lexer": "ipython3",
   "version": "3.12.2"
  }
 },
 "nbformat": 4,
 "nbformat_minor": 5
}
