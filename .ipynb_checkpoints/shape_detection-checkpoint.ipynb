{
 "cells": [
  {
   "cell_type": "code",
   "execution_count": 1,
   "id": "4ffcdeef-2bec-49c6-a9b1-6c01c975782f",
   "metadata": {},
   "outputs": [],
   "source": [
    "import cv2\n",
    "import matplotlib.pyplot as plt\n",
    "import numpy as np"
   ]
  },
  {
   "cell_type": "code",
   "execution_count": 2,
   "id": "a1598a88-8e5d-4117-b05d-01033e7a749f",
   "metadata": {},
   "outputs": [],
   "source": [
    "def f_randomSample(r,c,n):\n",
    "    totalPoints = len(r)\n",
    "    idx = np.random.permutation(np.arange(totalPoints))\n",
    "    idx = idx[:n]\n",
    "    r2,c2 = [],[]\n",
    "    for i in range(len(idx)):\n",
    "        r2.append(r[idx[i]])\n",
    "        c2.append(c[idx[i]])\n",
    "    return r2,c2\n"
   ]
  },
  {
   "cell_type": "code",
   "execution_count": 7,
   "id": "49ce6ee1-0510-4da7-b3d0-d266ede0ca32",
   "metadata": {},
   "outputs": [
    {
     "name": "stdout",
     "output_type": "stream",
     "text": [
      "[9, 6] [0, 3]\n"
     ]
    }
   ],
   "source": [
    "r = np.arange(10)\n",
    "c = np.arange(10)[::-1]\n",
    "r2,c2 = f_randomSample(r,c,2)\n",
    "print(r2,c2)"
   ]
  },
  {
   "cell_type": "code",
   "execution_count": 8,
   "id": "c0e1d678-839a-4528-939c-06ea66b048bb",
   "metadata": {},
   "outputs": [
    {
     "data": {
      "text/plain": [
       "array([0, 1, 2, 3, 4, 5, 6, 7, 8, 9])"
      ]
     },
     "execution_count": 8,
     "metadata": {},
     "output_type": "execute_result"
    }
   ],
   "source": [
    "r"
   ]
  },
  {
   "cell_type": "code",
   "execution_count": 9,
   "id": "30bc1058-79f4-4110-beb4-5c906f90ad10",
   "metadata": {},
   "outputs": [
    {
     "data": {
      "text/plain": [
       "array([9, 8, 7, 6, 5, 4, 3, 2, 1, 0])"
      ]
     },
     "execution_count": 9,
     "metadata": {},
     "output_type": "execute_result"
    }
   ],
   "source": [
    "c"
   ]
  },
  {
   "cell_type": "code",
   "execution_count": null,
   "id": "64ed4f82-61d7-4582-99fa-c33808c5b58e",
   "metadata": {},
   "outputs": [],
   "source": []
  }
 ],
 "metadata": {
  "kernelspec": {
   "display_name": "Python 3 (ipykernel)",
   "language": "python",
   "name": "python3"
  },
  "language_info": {
   "codemirror_mode": {
    "name": "ipython",
    "version": 3
   },
   "file_extension": ".py",
   "mimetype": "text/x-python",
   "name": "python",
   "nbconvert_exporter": "python",
   "pygments_lexer": "ipython3",
   "version": "3.12.2"
  }
 },
 "nbformat": 4,
 "nbformat_minor": 5
}
