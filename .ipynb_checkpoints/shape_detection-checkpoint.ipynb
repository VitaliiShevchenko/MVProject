{
 "cells": [
  {
   "cell_type": "code",
   "execution_count": 1,
   "id": "4ffcdeef-2bec-49c6-a9b1-6c01c975782f",
   "metadata": {},
   "outputs": [],
   "source": [
    "import cv2\n",
    "import matplotlib.pyplot as plt\n",
    "import numpy as np"
   ]
  },
  {
   "cell_type": "code",
   "execution_count": 2,
   "id": "a1598a88-8e5d-4117-b05d-01033e7a749f",
   "metadata": {},
   "outputs": [],
   "source": [
    "def f_randomSample(r,c,n):\n",
    "    totalPoints = len(r)\n",
    "    idx = np.random.permutation(np.arange(totalPoints))\n",
    "    idx = idx[:n]\n",
    "    r2,c2 = [],[]\n",
    "    for i in range(len(idx)):\n",
    "        r2.append(r[idx[i]])\n",
    "        c2.append(c[idx[i]])\n",
    "    return r2,c2\n"
   ]
  },
  {
   "cell_type": "code",
   "execution_count": 683,
   "id": "49ce6ee1-0510-4da7-b3d0-d266ede0ca32",
   "metadata": {},
   "outputs": [
    {
     "name": "stdout",
     "output_type": "stream",
     "text": [
      "[4, 6, 8, 0, 9, 3, 5, 2, 1] [5, 3, 1, 9, 0, 6, 4, 7, 8]\n"
     ]
    }
   ],
   "source": [
    "r = np.arange(10)\n",
    "c = np.arange(10)[::-1]\n",
    "r2,c2 = f_randomSample(r,c,9)\n",
    "print(r2,c2)"
   ]
  },
  {
   "cell_type": "code",
   "execution_count": 4,
   "id": "c0e1d678-839a-4528-939c-06ea66b048bb",
   "metadata": {},
   "outputs": [
    {
     "data": {
      "text/plain": [
       "array([0, 1, 2, 3, 4, 5, 6, 7, 8, 9])"
      ]
     },
     "execution_count": 4,
     "metadata": {},
     "output_type": "execute_result"
    }
   ],
   "source": [
    "r"
   ]
  },
  {
   "cell_type": "code",
   "execution_count": 5,
   "id": "30bc1058-79f4-4110-beb4-5c906f90ad10",
   "metadata": {},
   "outputs": [
    {
     "data": {
      "text/plain": [
       "array([9, 8, 7, 6, 5, 4, 3, 2, 1, 0])"
      ]
     },
     "execution_count": 5,
     "metadata": {},
     "output_type": "execute_result"
    }
   ],
   "source": [
    "c"
   ]
  },
  {
   "cell_type": "code",
   "execution_count": 6,
   "id": "64ed4f82-61d7-4582-99fa-c33808c5b58e",
   "metadata": {},
   "outputs": [],
   "source": [
    "def f_fitLine(r1,c1,r2,c2):\n",
    "    p = np.array([1,1])\n",
    "    A = np.array([[r1,1],[r2,1]])\n",
    "    q = np.array([[c1],[c2]])\n",
    "    if np.linalg.matrix_rank(A) == 2:\n",
    "        p = np.linalg.inv(A).dot(q)\n",
    "    a , b = p[0] , p[1]\n",
    "    return a,b"
   ]
  },
  {
   "cell_type": "code",
   "execution_count": 7,
   "id": "c23c4114-63c4-48f6-b646-54a5b52bb57b",
   "metadata": {},
   "outputs": [
    {
     "name": "stderr",
     "output_type": "stream",
     "text": [
      "/home/linuxbrew/.linuxbrew/opt/python@3.12/lib/python3.12/site-packages/numpy/core/getlimits.py:549: UserWarning: The value of the smallest subnormal for <class 'numpy.float64'> type is zero.\n",
      "  setattr(self, word, getattr(machar, word).flat[0])\n",
      "/home/linuxbrew/.linuxbrew/opt/python@3.12/lib/python3.12/site-packages/numpy/core/getlimits.py:89: UserWarning: The value of the smallest subnormal for <class 'numpy.float64'> type is zero.\n",
      "  return self._float_to_str(self.smallest_subnormal)\n"
     ]
    }
   ],
   "source": [
    "r = np.arange(10)\n",
    "c = np.arange(10)[::-1]\n",
    "r2,c2 = f_randomSample(r,c,2)\n",
    "a,b = f_fitLine(r2[0],c2[0],r2[1],c2[1])"
   ]
  },
  {
   "cell_type": "code",
   "execution_count": 8,
   "id": "3ab63f82-7789-4d61-8c2d-b705cb50aa6d",
   "metadata": {},
   "outputs": [
    {
     "data": {
      "text/plain": [
       "(array([-1.]), array([9.]))"
      ]
     },
     "execution_count": 8,
     "metadata": {},
     "output_type": "execute_result"
    }
   ],
   "source": [
    "a,b"
   ]
  },
  {
   "cell_type": "code",
   "execution_count": 9,
   "id": "09ff667b-bf19-4c9e-b219-fb7fe9f15a84",
   "metadata": {},
   "outputs": [
    {
     "data": {
      "text/plain": [
       "[9, 2]"
      ]
     },
     "execution_count": 9,
     "metadata": {},
     "output_type": "execute_result"
    }
   ],
   "source": [
    "c2"
   ]
  },
  {
   "cell_type": "code",
   "execution_count": 53,
   "id": "c285767e-4086-4a3f-ab74-53c71a9d9ef3",
   "metadata": {},
   "outputs": [],
   "source": [
    "def f_fitLine(r1,c1,r2,c2):\n",
    "    p = np.array([1,1])\n",
    "    A = np.array([[r1,1],[r2,1]])\n",
    "    q = np.array([[c1],[c2]])\n",
    "    if np.linalg.matrix_rank(A) == 2:\n",
    "        p = np.linalg.inv(A).dot(q)\n",
    "    a , b = p[0] , p[1]\n",
    "    return a,b"
   ]
  },
  {
   "cell_type": "code",
   "execution_count": 54,
   "id": "4ea70007-c0ee-4802-b2d7-3f788dfcc0ef",
   "metadata": {},
   "outputs": [],
   "source": [
    "r = np.arange(10)\n",
    "c = np.arange(10)[::-1]\n",
    "# r2,c2 = f_randomSample(r,c,2)\n",
    "r2, c2 = [1, 5], [0,0]\n",
    "a,b = f_fitLine(r2[0],c2[0],r2[1],c2[1])"
   ]
  },
  {
   "cell_type": "code",
   "execution_count": 55,
   "id": "3dbe2669-6e91-4233-95f8-b1966e821c8c",
   "metadata": {},
   "outputs": [
    {
     "data": {
      "text/plain": [
       "(array([0.]), array([0.]))"
      ]
     },
     "execution_count": 55,
     "metadata": {},
     "output_type": "execute_result"
    }
   ],
   "source": [
    "a, b"
   ]
  },
  {
   "cell_type": "code",
   "execution_count": 56,
   "id": "c5953664-480c-4e36-bf67-2b94bfdc4a4e",
   "metadata": {},
   "outputs": [],
   "source": [
    "def f_getConsistencyScore(r,c,th,a,b):\n",
    "    score = 0\n",
    "    for i in range(len(r)):\n",
    "        squaredError = (a*r[i]+b - c[i])**2\n",
    "        if squaredError < th:\n",
    "            score += 1\n",
    "    return score"
   ]
  },
  {
   "cell_type": "code",
   "execution_count": 626,
   "id": "ef0bd630-8b63-4431-81c0-8c4b7249edb0",
   "metadata": {},
   "outputs": [],
   "source": [
    "def f_RANSACLine(E, first, second, third):\n",
    "    E = E>0\n",
    "    idx = np.argwhere(E)\n",
    "    r , c = idx[:,0] , idx[:,1]\n",
    "    best_a , best_b = 0 , 0\n",
    "    maxScore = -1\n",
    "    numIter = 50\n",
    "    for iter in range(numIter):\n",
    "        r2,c2 = f_randomSample(r,c,2)\n",
    "        a,b = f_fitLine(r2[0],c2[0],r2[1],c2[1])\n",
    "        score = f_getConsistencyScore(r,c,2,a,b)\n",
    "        if score > maxScore and ((first - a)**2 >=50 or (second - a)**2 >=50 or (third - a)**2 >=50):\n",
    "            maxScore = score\n",
    "            best_a , best_b = a,b\n",
    "    return best_a,best_b"
   ]
  },
  {
   "cell_type": "code",
   "execution_count": 782,
   "id": "85acbac1-99fc-478a-b587-7043c22e18c7",
   "metadata": {},
   "outputs": [],
   "source": [
    "def f_RANSACFiveLines(E):\n",
    "    E = E>0\n",
    "    idx = np.argwhere(E)\n",
    "    r , c = idx[:,0] , idx[:,1]\n",
    "    best_coord = [[0,0],[0,0],[0,0],[0,0]]\n",
    "    maxScore = -1\n",
    "    numIter = 100\n",
    "    for iter in range(numIter):\n",
    "        r2,c2 = f_randomSample(r,c,2)\n",
    "        a,b = f_fitLine(r2[0],c2[0],r2[1],c2[1])\n",
    "        score = f_getConsistencyScore(r,c,2,a,b)\n",
    "        if score > maxScore:\n",
    "            maxScore = score\n",
    "            best_coord.append([a,b])\n",
    "    return best_coord[len(best_coord)-5:len(best_coord)]"
   ]
  },
  {
   "cell_type": "code",
   "execution_count": 739,
   "id": "6bc94320-e302-418b-a0e1-df07fef5910e",
   "metadata": {},
   "outputs": [],
   "source": [
    "E = plt.imread(r'/home/vitalii/Downloads/road.png')"
   ]
  },
  {
   "cell_type": "code",
   "execution_count": 671,
   "id": "b8fb8a3c-3f4c-41f7-8f2d-56733d4c22ac",
   "metadata": {},
   "outputs": [
    {
     "data": {
      "text/plain": [
       "<matplotlib.image.AxesImage at 0x74421f9c1df0>"
      ]
     },
     "execution_count": 671,
     "metadata": {},
     "output_type": "execute_result"
    },
    {
     "data": {
      "image/png": "[encoded data removed]",
      "text/plain": [
       "<Figure size 640x480 with 1 Axes>"
      ]
     },
     "metadata": {},
     "output_type": "display_data"
    }
   ],
   "source": [
    "E = E[:,:,0]\n",
    "plt.imshow(E,cmap='gray')"
   ]
  },
  {
   "cell_type": "code",
   "execution_count": 672,
   "id": "4a0b59db-434b-469c-9c90-fee8b3c90109",
   "metadata": {},
   "outputs": [
    {
     "data": {
      "text/plain": [
       "(499, 1153)"
      ]
     },
     "execution_count": 672,
     "metadata": {},
     "output_type": "execute_result"
    }
   ],
   "source": [
    "E.shape"
   ]
  },
  {
   "cell_type": "code",
   "execution_count": 673,
   "id": "5f22c472-00e8-42cd-b440-a87b406348bb",
   "metadata": {},
   "outputs": [
    {
     "data": {
      "text/plain": [
       "(1.0, 0.0)"
      ]
     },
     "execution_count": 673,
     "metadata": {},
     "output_type": "execute_result"
    }
   ],
   "source": [
    "E.max() , E.min()"
   ]
  },
  {
   "cell_type": "code",
   "execution_count": 674,
   "id": "95e9500a-bab8-44a7-be73-6cf815ce6067",
   "metadata": {},
   "outputs": [
    {
     "data": {
      "text/plain": [
       "dtype('float32')"
      ]
     },
     "execution_count": 674,
     "metadata": {},
     "output_type": "execute_result"
    }
   ],
   "source": [
    "E.dtype"
   ]
  },
  {
   "cell_type": "code",
   "execution_count": 675,
   "id": "70a085e4-fe70-4284-a5b1-bf7c0492bba4",
   "metadata": {},
   "outputs": [
    {
     "data": {
      "text/plain": [
       "(array([-16.75]), array([1795.25]))"
      ]
     },
     "execution_count": 675,
     "metadata": {},
     "output_type": "execute_result"
    }
   ],
   "source": [
    "best_a, best_b = f_RANSACLine(E, 0, 0,0)\n",
    "best_a, best_b\n"
   ]
  },
  {
   "cell_type": "code",
   "execution_count": 676,
   "id": "2bbd1b3d-1c14-4991-8bfd-304f8436bdbe",
   "metadata": {},
   "outputs": [
    {
     "data": {
      "text/plain": [
       "(array([0.94488189]), array([635.1023622]))"
      ]
     },
     "execution_count": 676,
     "metadata": {},
     "output_type": "execute_result"
    }
   ],
   "source": [
    "best_a1, best_b1 = f_RANSACLine(E, best_b, 0, 0)\n",
    "\n",
    "\n",
    "best_a1, best_b1\n"
   ]
  },
  {
   "cell_type": "code",
   "execution_count": 677,
   "id": "a797298c-b180-4263-b320-2b03b5469c3a",
   "metadata": {},
   "outputs": [
    {
     "data": {
      "text/plain": [
       "(array([0.99354839]), array([633.61290323]))"
      ]
     },
     "execution_count": 677,
     "metadata": {},
     "output_type": "execute_result"
    }
   ],
   "source": [
    "best_a2, best_b2 = f_RANSACLine(E, best_b, best_b1, 0)\n",
    "best_a2, best_b2"
   ]
  },
  {
   "cell_type": "code",
   "execution_count": 678,
   "id": "af55e579-261a-4e13-a82d-fc2d72466b7a",
   "metadata": {},
   "outputs": [
    {
     "data": {
      "text/plain": [
       "(array([0.95934959]), array([631.]))"
      ]
     },
     "execution_count": 678,
     "metadata": {},
     "output_type": "execute_result"
    }
   ],
   "source": [
    "best_a3, best_b3 = f_RANSACLine(E, best_b, best_b1, best_b2)\n",
    "best_a3, best_b3"
   ]
  },
  {
   "cell_type": "code",
   "execution_count": 645,
   "id": "46d97ab1-b079-4854-afde-fa535364d135",
   "metadata": {},
   "outputs": [],
   "source": [
    "def f_getExtents(a,b,numRows,numCols):\n",
    "    r1 = int(0)\n",
    "    c1 = int(a*r1+b)\n",
    "    r2 = int(numRows-1)\n",
    "    c2 = int(a*r2+b)\n",
    "    return (c1,r1),(c2,r2)"
   ]
  },
  {
   "cell_type": "code",
   "execution_count": null,
   "id": "835ab5f7-e36a-41aa-a5b0-00a286f32986",
   "metadata": {},
   "outputs": [],
   "source": []
  },
  {
   "cell_type": "code",
   "execution_count": 652,
   "id": "6d563a0b-83c0-477b-8454-ee735dce5237",
   "metadata": {},
   "outputs": [],
   "source": [
    "s,e = f_getExtents(best_a[0],best_b[0],E.shape[0],E.shape[1])\n",
    "s1,e1 = f_getExtents(best_a1[0],best_b1[0],E.shape[0],E.shape[1])\n",
    "s2,e2 = f_getExtents(best_a2[0],best_b2[0],E.shape[0],E.shape[1])\n",
    "s3,e3 = f_getExtents(best_a3[0],best_b3[0],E.shape[0],E.shape[1])"
   ]
  },
  {
   "cell_type": "code",
   "execution_count": 653,
   "id": "f9a8feab-38eb-4d29-b403-7ef4394f2ccd",
   "metadata": {},
   "outputs": [
    {
     "data": {
      "text/plain": [
       "((814, 0), (-244, 498))"
      ]
     },
     "execution_count": 653,
     "metadata": {},
     "output_type": "execute_result"
    }
   ],
   "source": [
    "s,e\n",
    "s1,e1\n",
    "s2,e2"
   ]
  },
  {
   "cell_type": "code",
   "execution_count": 654,
   "id": "c29aedf2-8fdf-4be7-9254-d09d4d3430aa",
   "metadata": {},
   "outputs": [],
   "source": [
    "E2 = np.zeros((E.shape[0],E.shape[1],3),dtype=np.uint8)\n",
    "E3 = np.array(255*E,dtype = np.uint8)"
   ]
  },
  {
   "cell_type": "code",
   "execution_count": 655,
   "id": "be6c62e1-616f-4145-bcf9-5e4940f37648",
   "metadata": {},
   "outputs": [
    {
     "data": {
      "text/plain": [
       "dtype('float32')"
      ]
     },
     "execution_count": 655,
     "metadata": {},
     "output_type": "execute_result"
    }
   ],
   "source": [
    "E.dtype"
   ]
  },
  {
   "cell_type": "code",
   "execution_count": 656,
   "id": "8e5fe99a-2b40-48b8-9987-326deab5b683",
   "metadata": {},
   "outputs": [
    {
     "data": {
      "text/plain": [
       "dtype('uint8')"
      ]
     },
     "execution_count": 656,
     "metadata": {},
     "output_type": "execute_result"
    }
   ],
   "source": [
    "E3.dtype"
   ]
  },
  {
   "cell_type": "code",
   "execution_count": 657,
   "id": "a4dfd436-2ef3-41b8-8bd7-ec242a952d50",
   "metadata": {},
   "outputs": [
    {
     "data": {
      "text/plain": [
       "<matplotlib.image.AxesImage at 0x74421fa58e90>"
      ]
     },
     "execution_count": 657,
     "metadata": {},
     "output_type": "execute_result"
    },
    {
     "data": {
      "image/png": "[encoded data removed]",
      "text/plain": [
       "<Figure size 640x480 with 1 Axes>"
      ]
     },
     "metadata": {},
     "output_type": "display_data"
    }
   ],
   "source": [
    "E3 = np.array(255*E,dtype = np.uint8)\n",
    "E2[:,:,0] = E3\n",
    "E2[:,:,1] = E3\n",
    "E2[:,:,2] = E3\n",
    "I = cv2.line(E2,s,e,(0,0,255),2)\n",
    "I = cv2.line(E2,s1,e1,(0,0,255),2)\n",
    "I = cv2.line(E2,s2,e2,(0,0,255),2)\n",
    "I = cv2.line(E2,s3,e3,(0,0,255),2)\n",
    "plt.imshow(I[:,:,::-1])"
   ]
  },
  {
   "cell_type": "code",
   "execution_count": 790,
   "id": "5ba82bb7-9565-4d88-aae2-12d2d21e2f43",
   "metadata": {},
   "outputs": [
    {
     "name": "stderr",
     "output_type": "stream",
     "text": [
      "/tmp/ipykernel_6027/3738965244.py:3: DeprecationWarning: Conversion of an array with ndim > 0 to a scalar is deprecated, and will error in future. Ensure you extract a single element from your array before performing this operation. (Deprecated NumPy 1.25.)\n",
      "  c1 = int(a*r1+b)\n",
      "/tmp/ipykernel_6027/3738965244.py:5: DeprecationWarning: Conversion of an array with ndim > 0 to a scalar is deprecated, and will error in future. Ensure you extract a single element from your array before performing this operation. (Deprecated NumPy 1.25.)\n",
      "  c2 = int(a*r2+b)\n"
     ]
    },
    {
     "data": {
      "text/plain": [
       "<matplotlib.image.AxesImage at 0x74421f17f3e0>"
      ]
     },
     "execution_count": 790,
     "metadata": {},
     "output_type": "execute_result"
    },
    {
     "data": {
      "image/png": "[encoded data removed]",
      "text/plain": [
       "<Figure size 640x480 with 1 Axes>"
      ]
     },
     "metadata": {},
     "output_type": "display_data"
    }
   ],
   "source": [
    "E = plt.imread(r'/home/vitalii/Downloads/road.png')\n",
    "E = E[:,:,0]\n",
    "plt.imshow(E,cmap='gray')\n",
    "E2 = np.zeros((E.shape[0],E.shape[1],3),dtype=np.uint8)\n",
    "E3 = np.array(255*E,dtype = np.uint8)\n",
    "\n",
    "best_coord = f_RANSACFiveLines(E)\n",
    "\n",
    "s,e = f_getExtents(best_coord[0][0],best_coord[0][1],E.shape[0],E.shape[1])\n",
    "s1,e1 = f_getExtents(best_coord[1][0],best_coord[1][1],E.shape[0],E.shape[1])\n",
    "s2,e2 = f_getExtents(best_coord[2][0],best_coord[2][1],E.shape[0],E.shape[1])\n",
    "s3,e3 = f_getExtents(best_coord[3][0],best_coord[3][1],E.shape[0],E.shape[1])\n",
    "s4,e4 = f_getExtents(best_coord[4][0],best_coord[4][1],E.shape[0],E.shape[1])\n",
    "\n",
    "E2[:,:,0] = E3\n",
    "E2[:,:,1] = E3\n",
    "E2[:,:,2] = E3\n",
    "I = cv2.line(E2,s,e,(0,0,255),2)\n",
    "I = cv2.line(E2,s1,e1,(0,0,255),2)\n",
    "I = cv2.line(E2,s2,e2,(0,0,255),2)\n",
    "I = cv2.line(E2,s3,e3,(0,0,255),2)\n",
    "I = cv2.line(E2,s4,e4,(0,0,255),2)\n",
    "plt.imshow(I[:,:,::-1])"
   ]
  },
  {
   "cell_type": "code",
   "execution_count": null,
   "id": "b05edbfd-f414-4609-83c5-d0693379477e",
   "metadata": {},
   "outputs": [],
   "source": []
  }
 ],
 "metadata": {
  "kernelspec": {
   "display_name": "Python 3 (ipykernel)",
   "language": "python",
   "name": "python3"
  },
  "language_info": {
   "codemirror_mode": {
    "name": "ipython",
    "version": 3
   },
   "file_extension": ".py",
   "mimetype": "text/x-python",
   "name": "python",
   "nbconvert_exporter": "python",
   "pygments_lexer": "ipython3",
   "version": "3.12.2"
  }
 },
 "nbformat": 4,
 "nbformat_minor": 5
}
