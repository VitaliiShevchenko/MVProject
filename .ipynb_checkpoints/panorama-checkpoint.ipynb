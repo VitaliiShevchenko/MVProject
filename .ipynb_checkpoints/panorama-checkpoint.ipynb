{
 "cells": [
  {
   "cell_type": "markdown",
   "id": "4727235d-b625-4209-8ce9-4ef9bf7aacec",
   "metadata": {},
   "source": [
    "# INSTALL DEPENDENCIES"
   ]
  },
  {
   "cell_type": "code",
   "execution_count": null,
   "id": "e904addf-8930-4c8a-9040-959d266b107d",
   "metadata": {},
   "outputs": [],
   "source": [
    "import numpy as np\n",
    "\n",
    "import matplotlib\n",
    "print(np.__version__)\n",
    "matplotlib.use('Qt5Agg')\n",
    "import matplotlib.pyplot as plt\n",
    "plt.switch_backend('Qt5Agg')\n",
    "\n",
    "import cv2"
   ]
  },
  {
   "cell_type": "code",
   "execution_count": 4,
   "id": "d68925b2-402b-4156-ba62-fcbc2a0242e1",
   "metadata": {},
   "outputs": [],
   "source": [
    "colorImgBgr = cv2.imread(r'../../Downloads/download.png')\n",
    "grayImg = cv2.imread(r'../../Downloads/puppy.jpeg', cv2.IMREAD_GRAYSCALE)\n",
    "grayAlb = cv2.imread(r'../../Downloads/albert-einstein_gray.jpg', cv2.IMREAD_GRAYSCALE)"
   ]
  },
  {
   "cell_type": "code",
   "execution_count": 5,
   "id": "5e23a610-defa-4c2c-baaf-796995635111",
   "metadata": {},
   "outputs": [],
   "source": [
    "import matplotlib as mpl\n",
    "def displayImageInActualSize(img):\n",
    "    dpi = mpl.rcParams['figure.dpi']\n",
    "    H, W = img.shape\n",
    "    figSize = W/float(dpi), H/float(dpi)\n",
    "    fig = plt.figure(figsize = figSize)\n",
    "    ax = fig.add_axes([0,0,1,1])\n",
    "    ax.axis('off')\n",
    "    ax.imshow(img, cmap='gray')\n",
    "    plt.show\n",
    "\n",
    "def displayImageInActualSizeColor(img):\n",
    "    dpi = mpl.rcParams['figure.dpi']\n",
    "    H, W = img.shape[0:2]\n",
    "    figSize = W/float(dpi), H/float(dpi)\n",
    "    fig = plt.figure(figsize = figSize)\n",
    "    ax = fig.add_axes([0,0,1,1])\n",
    "    ax.axis('off')\n",
    "    ax.imshow(img)\n",
    "    plt.show"
   ]
  },
  {
   "cell_type": "markdown",
   "id": "ddba1609-c779-4ad1-9057-c07777955a8e",
   "metadata": {},
   "source": [
    "# BILINEAR TRANSFORMATION"
   ]
  },
  {
   "cell_type": "code",
   "execution_count": 6,
   "id": "7ccd98e5-4ba7-4e0e-9e1c-4dec100c4f5b",
   "metadata": {},
   "outputs": [],
   "source": [
    "def f_bilinearInterpolate(row, col, I):\n",
    "    leftCol = int(col)\n",
    "    rightCol = leftCol + 1\n",
    "    widthLeft = col - leftCol\n",
    "    widthRight = rightCol - col\n",
    "    topRow = int(row)\n",
    "    bottomRow = topRow + 1\n",
    "    widthTop = row - topRow\n",
    "    widthBottom = bottomRow - row\n",
    "    if topRow >= 0 and bottomRow < I.shape[0] and leftCol >= 0 and rightCol < I.shape[1]:\n",
    "        a = I[topRow, leftCol] * widthRight + I[topRow, rightCol] * widthLeft\n",
    "        b = I[bottomRow, leftCol] * widthRight + I[bottomRow, rightCol] * widthLeft\n",
    "        g = widthTop * b + widthBottom * a\n",
    "        return np.uint8(g)\n",
    "    else:\n",
    "        return 0"
   ]
  },
  {
   "cell_type": "markdown",
   "id": "3508a4ad-f47f-4df7-b841-c2374b13d709",
   "metadata": {},
   "source": [
    "# ROTATION IMPLEMENTATION"
   ]
  },
  {
   "cell_type": "code",
   "execution_count": 7,
   "id": "4c9171f3-f6f6-4fb7-9b0d-9974d8347aa2",
   "metadata": {},
   "outputs": [],
   "source": [
    "def f_getExtents(T, rMax, cMax):\n",
    "    coords = np.array([[0,0], [0, cMax - 1], [rMax - 1, 0], [rMax - 1, cMax -1]])\n",
    "    A_dash = T.dot(coords.T)\n",
    "    mins = A_dash.min(axis=1)\n",
    "    maxs = A_dash.max(axis=1)\n",
    "    minR = np.int64(np.floor(mins[0]))\n",
    "    minC = np.int64(np.floor(mins[1]))\n",
    "    maxR = np.int64(np.ceil(maxs[0]))\n",
    "    maxC = np.int64(np.ceil(maxs[1]))\n",
    "    H, W = maxR - minR + 1, maxC - minC + 1\n",
    "    return minR, minC, maxR, maxC, H, W"
   ]
  },
  {
   "cell_type": "code",
   "execution_count": 8,
   "id": "26bb43ba-3850-459b-95fe-d64529dfd684",
   "metadata": {},
   "outputs": [],
   "source": [
    "def f_transform(T, grayImg):\n",
    "    rMax, cMax = grayImg.shape[0], grayImg.shape[1]\n",
    "    minR, minC, maxR, maxC, H, W = f_getExtents(T, rMax, cMax)\n",
    "    transformImg = np.ones((H, W), dtype='uint8')*255\n",
    "    Tinv = np.linalg.inv(T)\n",
    "    for new_i in range(minR, maxR):\n",
    "        for new_j in range(minC, maxC):\n",
    "            P_dash = np.array([new_i, new_j])\n",
    "            P = Tinv.dot(P_dash)\n",
    "            i, j = P[0], P[1]\n",
    "            if i<0 or i>=rMax or j<0 or j >= cMax:\n",
    "               pass\n",
    "            else:\n",
    "               g = f_bilinearInterpolate(i, j, grayImg)\n",
    "               transformImg[new_i - minR, new_j - minC] = g\n",
    "    return transformImg"
   ]
  },
  {
   "cell_type": "markdown",
   "id": "0fa4eecf-0203-461e-a328-e234b4bac443",
   "metadata": {},
   "source": [
    "# AFFINE TRANSFORMATION"
   ]
  },
  {
   "cell_type": "code",
   "execution_count": 9,
   "id": "fc35fe84-9967-4e46-a0db-65e149beb91d",
   "metadata": {},
   "outputs": [],
   "source": [
    "def f_getExtentsAffine(T, rMax, cMax):\n",
    "    coords = np.array([[0,0, 1], [0, cMax - 1, 1], [rMax - 1, 0, 1], [rMax - 1, cMax -1, 1]])\n",
    "    A_dash = T.dot(coords.T)\n",
    "    mins = A_dash.min(axis=1)\n",
    "    maxs = A_dash.max(axis=1)\n",
    "    minR = np.int64(np.floor(mins[0]))\n",
    "    minC = np.int64(np.floor(mins[1]))\n",
    "    maxR = np.int64(np.ceil(maxs[0]))\n",
    "    maxC = np.int64(np.ceil(maxs[1]))\n",
    "    H, W = maxR - minR + 1, maxC - minC + 1\n",
    "    return minR, minC, maxR, maxC, H, W"
   ]
  },
  {
   "cell_type": "code",
   "execution_count": 10,
   "id": "873d90d7-b3f5-45ae-8a6a-f22fefb559f9",
   "metadata": {},
   "outputs": [],
   "source": [
    "def f_transformAffine(T, grayImg):\n",
    "    rMax, cMax = grayImg.shape[0], grayImg.shape[1]\n",
    "    minR, minC, maxR, maxC, H, W = f_getExtentsAffine(T, rMax, cMax)\n",
    "    transformImg = np.ones((H, W), dtype='uint8')*255\n",
    "    Tinv = np.linalg.inv(T)\n",
    "    for new_i in range(minR, maxR):\n",
    "        for new_j in range(minC, maxC):\n",
    "            P_dash = np.array([new_i, new_j, 1])\n",
    "            P = Tinv.dot(P_dash)\n",
    "            i, j = P[0], P[1]\n",
    "            if i<0 or i>=rMax or j<0 or j >= cMax:\n",
    "               pass\n",
    "            else:\n",
    "               g = f_bilinearInterpolate(i, j, grayImg)\n",
    "               transformImg[new_i - minR, new_j - minC] = g\n",
    "    return transformImg"
   ]
  },
  {
   "cell_type": "markdown",
   "id": "719ac2c8-4a48-4b41-88e2-7d405203b056",
   "metadata": {},
   "source": [
    "# PROJECTIVE TRANSFORMATION HOMOGRAPHY"
   ]
  },
  {
   "cell_type": "code",
   "execution_count": 11,
   "id": "39b1c9c2-76e1-4d70-876a-a1d3273245b8",
   "metadata": {},
   "outputs": [],
   "source": [
    "def f_getExtentsProjective(T, rMax, cMax):\n",
    "    coords = np.array([[0,0, 1], [0, cMax - 1, 1], [rMax - 1, 0, 1], [rMax - 1, cMax -1, 1]])\n",
    "    A_dash = T.dot(coords.T)\n",
    "    A_dash = A_dash/A_dash[2,]\n",
    "    mins = A_dash.min(axis=1)\n",
    "    maxs = A_dash.max(axis=1)\n",
    "    minR = np.int64(np.floor(mins[0]))\n",
    "    minC = np.int64(np.floor(mins[1]))\n",
    "    maxR = np.int64(np.ceil(maxs[0]))\n",
    "    maxC = np.int64(np.ceil(maxs[1]))\n",
    "    H, W = maxR - minR + 1, maxC - minC + 1\n",
    "    return minR, minC, maxR, maxC, H, W"
   ]
  },
  {
   "cell_type": "code",
   "execution_count": 12,
   "id": "4cf150ed-57b0-4d2a-a896-b4e989a2a8fd",
   "metadata": {},
   "outputs": [],
   "source": [
    "def f_transformProjective(T, grayImg):\n",
    "    rMax, cMax = grayImg.shape[0], grayImg.shape[1]\n",
    "    minR, minC, maxR, maxC, H, W = f_getExtentsProjective(T, rMax, cMax)\n",
    "    transformImg = np.ones((H, W), dtype='uint8')*255\n",
    "    Tinv = np.linalg.inv(T)\n",
    "    for new_i in range(minR, maxR):\n",
    "        for new_j in range(minC, maxC):\n",
    "            P_dash = np.array([new_i, new_j, 1])\n",
    "            P = Tinv.dot(P_dash)\n",
    "            P = P/P[2]\n",
    "            i, j = P[0], P[1]\n",
    "            if i<0 or i>=rMax or j<0 or j >= cMax:\n",
    "               pass\n",
    "            else:\n",
    "               g = f_bilinearInterpolate(i, j, grayImg)\n",
    "               transformImg[new_i - minR, new_j - minC] = g\n",
    "    return transformImg"
   ]
  },
  {
   "cell_type": "code",
   "execution_count": 13,
   "id": "7b8ad36d-c2ba-4add-8d67-3c4322b09d7e",
   "metadata": {},
   "outputs": [
    {
     "data": {
      "text/plain": [
       "array([[  1.12583302,  -0.08708349,  -2.91651246],\n",
       "       [  0.35      ,   0.78121778, -17.48711306],\n",
       "       [  0.        ,   0.        ,   1.        ]])"
      ]
     },
     "execution_count": 13,
     "metadata": {},
     "output_type": "execute_result"
    }
   ],
   "source": [
    "a = 30\n",
    "ca = np.cos(np.deg2rad(a))\n",
    "sa = np.sin(np.deg2rad(a))\n",
    "R = np.array([[ca,-sa,0],[sa,ca,0],[0,0,1]])\n",
    "T = np.array([[1,0,-300],[0,1,-400],[0,0,1]])\n",
    "Sh = np.array([[1,0.5,0],[0,1,0],[0,0,1]])\n",
    "S = np.array([[1.3,0,0],[0,0.7,0],[0,0,1]])\n",
    "A = np.linalg.inv(T).dot(S).dot(R).dot(Sh).dot(T)\n",
    "H = np.array(A)\n",
    "A"
   ]
  },
  {
   "cell_type": "code",
   "execution_count": 14,
   "id": "d679837b-02b3-4ddd-adfb-c73a8ed5ea35",
   "metadata": {},
   "outputs": [
    {
     "data": {
      "text/plain": [
       "array([[ 1.12583302e+00, -8.70834875e-02, -2.91651246e+00],\n",
       "       [ 3.50000000e-01,  7.81217783e-01, -1.74871131e+01],\n",
       "       [ 1.00000000e-04,  1.00000000e-04,  1.00000000e+00]])"
      ]
     },
     "execution_count": 14,
     "metadata": {},
     "output_type": "execute_result"
    }
   ],
   "source": [
    "H[2,:] = np.array([0.0001, 0.0001, 1])\n",
    "H"
   ]
  },
  {
   "cell_type": "code",
   "execution_count": 15,
   "id": "d68256ac-784b-4c3c-a31f-e5c2e9f0717d",
   "metadata": {},
   "outputs": [
    {
     "data": {
      "text/plain": [
       "array([[  1.12583302,  -0.08708349,  -2.91651246],\n",
       "       [  0.35      ,   0.78121778, -17.48711306],\n",
       "       [  0.        ,   0.        ,   1.        ]])"
      ]
     },
     "execution_count": 15,
     "metadata": {},
     "output_type": "execute_result"
    }
   ],
   "source": [
    "A"
   ]
  },
  {
   "cell_type": "code",
   "execution_count": null,
   "id": "9197c738-90f6-4db9-b92c-20acd0910312",
   "metadata": {},
   "outputs": [],
   "source": [
    "I2 = f_transformProjective(H,grayAlb)\n",
    "plt.imshow(I2,cmap='gray')"
   ]
  },
  {
   "cell_type": "code",
   "execution_count": 1,
   "id": "e262a643-ceda-4b7f-8b04-bfb29711ee51",
   "metadata": {},
   "outputs": [],
   "source": [
    "def f_getPoints(I,numPts):\n",
    "    %matplotlib inline\n",
    "    fig,ax = plt.subplots(1,figsize=(15,30))\n",
    "    plt.imshow(I,cmap='gray')\n",
    "    pts = np.round(np.array(plt.ginput(n=numPts)))\n",
    "    pts = pts[:,[1,0]].T\n",
    "    plt.close()\n",
    "    return pts"
   ]
  },
  {
   "cell_type": "code",
   "execution_count": 2,
   "id": "57694ae1-d678-40d5-b265-12862b273d2a",
   "metadata": {},
   "outputs": [
    {
     "ename": "NameError",
     "evalue": "name 'grayAlb' is not defined",
     "output_type": "error",
     "traceback": [
      "\u001b[0;31m---------------------------------------------------------------------------\u001b[0m",
      "\u001b[0;31mNameError\u001b[0m                                 Traceback (most recent call last)",
      "Cell \u001b[0;32mIn[2], line 1\u001b[0m\n\u001b[0;32m----> 1\u001b[0m pts \u001b[38;5;241m=\u001b[39m f_getPoints(\u001b[43mgrayAlb\u001b[49m, \u001b[38;5;241m4\u001b[39m)\n\u001b[1;32m      2\u001b[0m \u001b[38;5;66;03m#pts = np.array([[397., 387., 477., 631.], [317., 389., 440., 412.]])\u001b[39;00m\n",
      "\u001b[0;31mNameError\u001b[0m: name 'grayAlb' is not defined"
     ]
    }
   ],
   "source": [
    "pts = f_getPoints(grayAlb, 4)\n",
    "#pts = np.array([[397., 387., 477., 631.], [317., 389., 440., 412.]])"
   ]
  },
  {
   "cell_type": "code",
   "execution_count": null,
   "id": "e9829326-9aff-43a4-b3c3-af08b79ac016",
   "metadata": {},
   "outputs": [],
   "source": [
    "P = np.array([[402.,400.,479.],[320.,499.,443.]])"
   ]
  },
  {
   "cell_type": "code",
   "execution_count": null,
   "id": "5865e708-c67a-47f3-ab10-601f3f2a9612",
   "metadata": {},
   "outputs": [],
   "source": [
    "P"
   ]
  },
  {
   "cell_type": "code",
   "execution_count": null,
   "id": "175b0517-8da8-4075-adca-42ccf2fda38d",
   "metadata": {},
   "outputs": [],
   "source": [
    "P_dash = np.array([[487., 471., 569.],\n",
    "       [389., 530., 515.]])"
   ]
  },
  {
   "cell_type": "code",
   "execution_count": null,
   "id": "d6368fef-8865-41ef-a3fe-bdb1ea3a182b",
   "metadata": {},
   "outputs": [],
   "source": [
    "P_dash"
   ]
  },
  {
   "cell_type": "code",
   "execution_count": null,
   "id": "ac146570-58e5-4e80-9e02-09b141b46d03",
   "metadata": {},
   "outputs": [],
   "source": [
    "P = np.vstack((P,np.ones((1,3))))"
   ]
  },
  {
   "cell_type": "code",
   "execution_count": null,
   "id": "e72b20ab-2f72-4c83-9937-a241e579ae05",
   "metadata": {},
   "outputs": [],
   "source": [
    "P"
   ]
  },
  {
   "cell_type": "code",
   "execution_count": null,
   "id": "3f335d35-9315-4f5c-85b7-16a0c233e2e5",
   "metadata": {},
   "outputs": [],
   "source": [
    "np.linalg.det(P)"
   ]
  },
  {
   "cell_type": "code",
   "execution_count": null,
   "id": "c6fd5a73-c6e2-4697-92a2-7703859d5692",
   "metadata": {},
   "outputs": [],
   "source": [
    "A = P_dash.dot(np.linalg.inv(P))"
   ]
  },
  {
   "cell_type": "code",
   "execution_count": null,
   "id": "3ff41fdc-1ad7-4321-b888-093c5cecbd59",
   "metadata": {},
   "outputs": [],
   "source": [
    "A"
   ]
  },
  {
   "cell_type": "code",
   "execution_count": null,
   "id": "bd3c20e9-0d6f-4c81-9051-254de6c54d23",
   "metadata": {},
   "outputs": [],
   "source": []
  },
  {
   "cell_type": "code",
   "execution_count": null,
   "id": "1e00ae04-e9ee-4834-8a71-331592d46376",
   "metadata": {},
   "outputs": [],
   "source": []
  }
 ],
 "metadata": {
  "kernelspec": {
   "display_name": "Python 3 (ipykernel)",
   "language": "python",
   "name": "python3"
  },
  "language_info": {
   "codemirror_mode": {
    "name": "ipython",
    "version": 3
   },
   "file_extension": ".py",
   "mimetype": "text/x-python",
   "name": "python",
   "nbconvert_exporter": "python",
   "pygments_lexer": "ipython3",
   "version": "3.12.2"
  }
 },
 "nbformat": 4,
 "nbformat_minor": 5
}
